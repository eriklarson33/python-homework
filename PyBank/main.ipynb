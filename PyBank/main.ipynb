{
 "cells": [
  {
   "cell_type": "markdown",
   "id": "79e9ea09-be06-44b8-b8b0-84680dd30718",
   "metadata": {},
   "source": [
    "# Budget Analysis:\n",
    "-------------------------"
   ]
  },
  {
   "cell_type": "markdown",
   "id": "5f9b3694-43dc-4eac-af63-40be4316cccd",
   "metadata": {},
   "source": [
    "### This analyzes the records to calculate each of the following:\n",
    "* The total number of months included in the dataset.\n",
    "* The net total amount of Profit/Losses over the entire period.\n",
    "* The average of the changes in Profit/Losses over the entire period.\n",
    "* The greatest increase in profits (date and amount) over the entire period.\n",
    "* The greatest decrease in losses (date and amount) over the entire period."
   ]
  },
  {
   "cell_type": "code",
   "execution_count": 1,
   "id": "532156ff-c82e-421f-9f48-fbfb7875a9bd",
   "metadata": {},
   "outputs": [],
   "source": [
    "# Import libraries\n",
    "import pandas as pd\n",
    "import numpy as np\n",
    "from pathlib import Path\n",
    "import csv"
   ]
  },
  {
   "cell_type": "code",
   "execution_count": 2,
   "id": "d1d5ab45-73a1-42a8-b958-0fdfef177850",
   "metadata": {},
   "outputs": [
    {
     "data": {
      "text/plain": [
       "WindowsPath('Resources/budget_data.csv')"
      ]
     },
     "execution_count": 2,
     "metadata": {},
     "output_type": "execute_result"
    }
   ],
   "source": [
    "# Import data\n",
    "csv_path = Path('Resources/budget_data.csv')\n",
    "csv_path"
   ]
  },
  {
   "cell_type": "code",
   "execution_count": 3,
   "id": "7af417a8-c01e-4707-94c0-6bfaa2cc09b0",
   "metadata": {},
   "outputs": [
    {
     "data": {
      "text/html": [
       "<div>\n",
       "<style scoped>\n",
       "    .dataframe tbody tr th:only-of-type {\n",
       "        vertical-align: middle;\n",
       "    }\n",
       "\n",
       "    .dataframe tbody tr th {\n",
       "        vertical-align: top;\n",
       "    }\n",
       "\n",
       "    .dataframe thead th {\n",
       "        text-align: right;\n",
       "    }\n",
       "</style>\n",
       "<table border=\"1\" class=\"dataframe\">\n",
       "  <thead>\n",
       "    <tr style=\"text-align: right;\">\n",
       "      <th></th>\n",
       "      <th>Profit/Losses</th>\n",
       "    </tr>\n",
       "    <tr>\n",
       "      <th>Date</th>\n",
       "      <th></th>\n",
       "    </tr>\n",
       "  </thead>\n",
       "  <tbody>\n",
       "    <tr>\n",
       "      <th>2010-01-01</th>\n",
       "      <td>867884</td>\n",
       "    </tr>\n",
       "    <tr>\n",
       "      <th>2010-02-01</th>\n",
       "      <td>984655</td>\n",
       "    </tr>\n",
       "    <tr>\n",
       "      <th>2010-03-01</th>\n",
       "      <td>322013</td>\n",
       "    </tr>\n",
       "    <tr>\n",
       "      <th>2010-04-01</th>\n",
       "      <td>-69417</td>\n",
       "    </tr>\n",
       "    <tr>\n",
       "      <th>2010-05-01</th>\n",
       "      <td>310503</td>\n",
       "    </tr>\n",
       "  </tbody>\n",
       "</table>\n",
       "</div>"
      ],
      "text/plain": [
       "            Profit/Losses\n",
       "Date                     \n",
       "2010-01-01         867884\n",
       "2010-02-01         984655\n",
       "2010-03-01         322013\n",
       "2010-04-01         -69417\n",
       "2010-05-01         310503"
      ]
     },
     "execution_count": 3,
     "metadata": {},
     "output_type": "execute_result"
    }
   ],
   "source": [
    "budget_pl = pd.read_csv(csv_path, index_col='Date', parse_dates=True, infer_datetime_format=True)\n",
    "budget_pl.head()"
   ]
  },
  {
   "cell_type": "code",
   "execution_count": 4,
   "id": "7c4aaa44-d504-4e37-a2ed-a96d30a4a2f4",
   "metadata": {},
   "outputs": [
    {
     "data": {
      "text/plain": [
       "Profit/Losses    0\n",
       "dtype: int64"
      ]
     },
     "execution_count": 4,
     "metadata": {},
     "output_type": "execute_result"
    }
   ],
   "source": [
    "# Analyze data\n",
    "budget_pl.isnull().sum()"
   ]
  },
  {
   "cell_type": "code",
   "execution_count": 5,
   "id": "fd06e717-e536-401a-bcec-3f48c63a343f",
   "metadata": {},
   "outputs": [
    {
     "data": {
      "text/html": [
       "<div>\n",
       "<style scoped>\n",
       "    .dataframe tbody tr th:only-of-type {\n",
       "        vertical-align: middle;\n",
       "    }\n",
       "\n",
       "    .dataframe tbody tr th {\n",
       "        vertical-align: top;\n",
       "    }\n",
       "\n",
       "    .dataframe thead th {\n",
       "        text-align: right;\n",
       "    }\n",
       "</style>\n",
       "<table border=\"1\" class=\"dataframe\">\n",
       "  <thead>\n",
       "    <tr style=\"text-align: right;\">\n",
       "      <th></th>\n",
       "      <th>Profit/Losses</th>\n",
       "    </tr>\n",
       "  </thead>\n",
       "  <tbody>\n",
       "    <tr>\n",
       "      <th>count</th>\n",
       "      <td>8.600000e+01</td>\n",
       "    </tr>\n",
       "    <tr>\n",
       "      <th>mean</th>\n",
       "      <td>4.463090e+05</td>\n",
       "    </tr>\n",
       "    <tr>\n",
       "      <th>std</th>\n",
       "      <td>5.363579e+05</td>\n",
       "    </tr>\n",
       "    <tr>\n",
       "      <th>min</th>\n",
       "      <td>-1.196225e+06</td>\n",
       "    </tr>\n",
       "    <tr>\n",
       "      <th>25%</th>\n",
       "      <td>1.821620e+05</td>\n",
       "    </tr>\n",
       "    <tr>\n",
       "      <th>50%</th>\n",
       "      <td>5.703280e+05</td>\n",
       "    </tr>\n",
       "    <tr>\n",
       "      <th>75%</th>\n",
       "      <td>7.952262e+05</td>\n",
       "    </tr>\n",
       "    <tr>\n",
       "      <th>max</th>\n",
       "      <td>1.170593e+06</td>\n",
       "    </tr>\n",
       "  </tbody>\n",
       "</table>\n",
       "</div>"
      ],
      "text/plain": [
       "       Profit/Losses\n",
       "count   8.600000e+01\n",
       "mean    4.463090e+05\n",
       "std     5.363579e+05\n",
       "min    -1.196225e+06\n",
       "25%     1.821620e+05\n",
       "50%     5.703280e+05\n",
       "75%     7.952262e+05\n",
       "max     1.170593e+06"
      ]
     },
     "execution_count": 5,
     "metadata": {},
     "output_type": "execute_result"
    }
   ],
   "source": [
    "budget_pl.describe()"
   ]
  },
  {
   "cell_type": "markdown",
   "id": "457328b8-4aeb-4a8a-b948-f7ddc889a8dc",
   "metadata": {},
   "source": [
    "## Find total number of months included in the dataset."
   ]
  },
  {
   "cell_type": "code",
   "execution_count": 6,
   "id": "8600da57-46e9-43bc-9f84-3dcd17c35325",
   "metadata": {},
   "outputs": [
    {
     "data": {
      "text/plain": [
       "Profit/Losses    86\n",
       "dtype: int64"
      ]
     },
     "execution_count": 6,
     "metadata": {},
     "output_type": "execute_result"
    }
   ],
   "source": [
    "total_months = budget_pl.count()\n",
    "total_months"
   ]
  },
  {
   "cell_type": "markdown",
   "id": "406cb4c7-5447-4469-b078-1a3eedf38e12",
   "metadata": {},
   "source": [
    "## Find net total amount of Profit/Loss over the entire period."
   ]
  },
  {
   "cell_type": "code",
   "execution_count": 7,
   "id": "80a764b4-9b27-41b8-8236-5a0182a37be3",
   "metadata": {},
   "outputs": [
    {
     "data": {
      "text/plain": [
       "Profit/Losses    38382578\n",
       "dtype: int64"
      ]
     },
     "execution_count": 7,
     "metadata": {},
     "output_type": "execute_result"
    }
   ],
   "source": [
    "net_total_Profit_and_Loss = budget_pl.sum()\n",
    "net_total_Profit_and_Loss"
   ]
  },
  {
   "cell_type": "markdown",
   "id": "c6c6e62d-a68c-416b-bdac-bac1812f6e11",
   "metadata": {},
   "source": [
    "## Find average of the changes in Profit/Losses over the entire period."
   ]
  },
  {
   "cell_type": "code",
   "execution_count": 8,
   "id": "9db67892-b6bc-47f8-8b73-fd79acd9aadb",
   "metadata": {},
   "outputs": [],
   "source": [
    "# mean_total_Profit_and_Loss = np.mean(budget_pl)\n",
    "# mean_total_Profit_and_Loss"
   ]
  },
  {
   "cell_type": "code",
   "execution_count": 9,
   "id": "c767a21f-fade-47c7-8ff7-1edfc8db5958",
   "metadata": {},
   "outputs": [],
   "source": [
    "# # Set list variable change to hold calculated changes from month to month\n",
    "# change = []"
   ]
  },
  {
   "cell_type": "code",
   "execution_count": 10,
   "id": "0fc2e331-b535-49d9-9111-c1e1a0b2b362",
   "metadata": {},
   "outputs": [
    {
     "name": "stdout",
     "output_type": "stream",
     "text": [
      "867884\n"
     ]
    }
   ],
   "source": [
    "print(budget_pl['Profit/Losses'][0])"
   ]
  },
  {
   "cell_type": "code",
   "execution_count": 11,
   "id": "3511d311-a0a5-4c79-9e1c-022223dd51dc",
   "metadata": {},
   "outputs": [
    {
     "name": "stdout",
     "output_type": "stream",
     "text": [
      "Profit/Losses\n"
     ]
    }
   ],
   "source": [
    "for value in budget_pl:\n",
    "    print(value)"
   ]
  },
  {
   "cell_type": "code",
   "execution_count": 12,
   "id": "5634a55a-d513-4d55-883f-260940bb3cb8",
   "metadata": {},
   "outputs": [],
   "source": [
    "# Initializing variables to hold the months and Profit/Loss:\n",
    "month = []\n",
    "p_and_l = []\n",
    "#count = []\n",
    "monthly_PnL_change = []\n",
    "\n",
    "# Set variables for tracking Profit/Loss\n",
    "previous_PnL = 0\n",
    "current_PnL_change = 0\n",
    "\n",
    "greatest_increase = 0\n",
    "greatest_inc_month = ''\n",
    "greatest_decrease = 0\n",
    "greatest_dec_month = ''\n",
    "\n",
    "# Track total Profit/Loss over time:\n",
    "total_Pnl_change = 0"
   ]
  },
  {
   "cell_type": "code",
   "execution_count": 13,
   "id": "d3000f2a-2321-4091-ab88-2aa6e6959347",
   "metadata": {},
   "outputs": [],
   "source": [
    "# Initialize line_num variable to track row line # (Provide Total # of Months)\n",
    "line_num = 0"
   ]
  },
  {
   "cell_type": "code",
   "execution_count": 14,
   "id": "ca4f7a14-b50c-4762-bb9e-c06657ac30a0",
   "metadata": {},
   "outputs": [
    {
     "name": "stdout",
     "output_type": "stream",
     "text": [
      "867884\n",
      "The new greatest increase is 867884 during Jan-2010\n",
      "116771\n",
      "205242\n",
      "-274659\n",
      "The new greatest decrease is -274659 during Apr-2010\n",
      "585162\n",
      "-62305\n",
      "1095401\n",
      "The new greatest increase is 1095401 during Jul-2010\n",
      "-490516\n",
      "The new greatest decrease is -490516 during Aug-2010\n",
      "274130\n",
      "203402\n",
      "690408\n",
      "-770761\n",
      "The new greatest decrease is -770761 during Dec-2010\n",
      "1550567\n",
      "The new greatest increase is 1550567 during Jan-2011\n",
      "-1885770\n",
      "The new greatest decrease is -1885770 during Feb-2011\n",
      "2583615\n",
      "The new greatest increase is 2583615 during Mar-2011\n",
      "-1790452\n",
      "2275522\n",
      "-1691400\n",
      "1754129\n",
      "-1085950\n",
      "1985856\n",
      "-1151137\n",
      "1283140\n",
      "-973162\n",
      "217596\n",
      "952997\n",
      "-700209\n",
      "1851727\n",
      "-1034471\n",
      "1605228\n",
      "-1098526\n",
      "75992\n",
      "399070\n",
      "380906\n",
      "-236731\n",
      "779225\n",
      "-419892\n",
      "741361\n",
      "-673581\n",
      "1145016\n",
      "-579413\n",
      "1451893\n",
      "-662413\n",
      "1662355\n",
      "-2858580\n",
      "The new greatest decrease is -2858580 during Sep-2013\n",
      "3127577\n",
      "The new greatest increase is 3127577 during Oct-2013\n",
      "-3815563\n",
      "The new greatest decrease is -3815563 during Nov-2013\n",
      "4966024\n",
      "The new greatest increase is 4966024 during Dec-2013\n",
      "-4283566\n",
      "The new greatest decrease is -4283566 during Jan-2014\n",
      "4901422\n",
      "-4077324\n",
      "4659267\n",
      "-4526403\n",
      "The new greatest decrease is -4526403 during May-2014\n",
      "4974465\n",
      "The new greatest increase is 4974465 during Jun-2014\n",
      "-4285304\n",
      "5086005\n",
      "The new greatest increase is 5086005 during Aug-2014\n",
      "-3919362\n",
      "4866695\n",
      "-4288027\n",
      "5276532\n",
      "The new greatest increase is 5276532 during Dec-2014\n",
      "-4136817\n",
      "5166288\n",
      "-4478755\n",
      "3954129\n",
      "-3795509\n",
      "3883304\n",
      "-3459915\n",
      "4300638\n",
      "-3732109\n",
      "4064176\n",
      "-3074677\n",
      "3852914\n",
      "-3202914\n",
      "2102527\n",
      "-2277473\n",
      "3034616\n",
      "-2588907\n",
      "3301868\n",
      "-4465665\n",
      "5035564\n",
      "-4267114\n",
      "4369799\n",
      "-3573885\n",
      "3634873\n",
      "-3496643\n",
      "4167742\n"
     ]
    }
   ],
   "source": [
    "with open(csv_path, 'r') as csv_file:\n",
    "    csv_reader = csv.reader(csv_file, delimiter=',')\n",
    "    \n",
    "    # Skip the Header Row\n",
    "    next(csv_reader)\n",
    "    \n",
    "    for line in csv_reader:\n",
    "        #count.append(line_num)\n",
    "        month.append(line[0])\n",
    "        p_and_l.append(int(line[1]))\n",
    "        \n",
    "        # Calculate total monthly Profit/Loss change over time\n",
    "        total_Pnl_change = total_Pnl_change + int(line[1])\n",
    "        \n",
    "        current_PnL_change = int(line[1]) - previous_PnL\n",
    "        print(current_PnL_change)\n",
    "        previous_PnL = current_PnL_change\n",
    "        monthly_PnL_change.append(current_PnL_change)\n",
    "        \n",
    "        \n",
    "        if current_PnL_change > greatest_increase:\n",
    "            greatest_increase = current_PnL_change\n",
    "            greatest_inc_month = line[0]\n",
    "            print(f\"The new greatest increase is {greatest_increase} during {greatest_inc_month}\")\n",
    "            \n",
    "        if current_PnL_change < greatest_decrease:\n",
    "            greatest_decrease = current_PnL_change\n",
    "            greatest_dec_month = line[0]\n",
    "            print(f\"The new greatest decrease is {greatest_decrease} during {greatest_dec_month}\")\n",
    "        \n",
    "        line_num+=1\n"
   ]
  },
  {
   "cell_type": "code",
   "execution_count": 15,
   "id": "3ec18d70-7532-407d-b46d-405ae476cd07",
   "metadata": {},
   "outputs": [
    {
     "data": {
      "text/plain": [
       "38382578"
      ]
     },
     "execution_count": 15,
     "metadata": {},
     "output_type": "execute_result"
    }
   ],
   "source": [
    "total_Pnl_change"
   ]
  },
  {
   "cell_type": "code",
   "execution_count": 16,
   "id": "d0ea544a-0cb7-4b6d-b7a1-7348b2f6b696",
   "metadata": {},
   "outputs": [
    {
     "data": {
      "text/plain": [
       "86"
      ]
     },
     "execution_count": 16,
     "metadata": {},
     "output_type": "execute_result"
    }
   ],
   "source": [
    "line_num"
   ]
  },
  {
   "cell_type": "code",
   "execution_count": 26,
   "id": "2a434a23-5c53-49a7-ad8b-5caae9818560",
   "metadata": {},
   "outputs": [
    {
     "data": {
      "text/plain": [
       "446309.05"
      ]
     },
     "execution_count": 26,
     "metadata": {},
     "output_type": "execute_result"
    }
   ],
   "source": [
    "# Calculate average Profit/Loss over time:\n",
    "average_Profit_Loss = round((total_Pnl_change / line_num), 2)\n",
    "average_Profit_Loss"
   ]
  },
  {
   "cell_type": "code",
   "execution_count": 29,
   "id": "bcc892dc-2c70-4b83-81e8-8c54f6679c30",
   "metadata": {},
   "outputs": [
    {
     "name": "stdout",
     "output_type": "stream",
     "text": [
      "Financial Analysis\n",
      "--------------------------------------------\n",
      "Total Months: 86\n",
      "Total: $38382578\n",
      "Average Change: $446309.05\n",
      "Greatest Increase in Profits: Dec-2014  ($5276532)\n",
      "Greatest Decrease in Profits: May-2014  ($-4526403)\n"
     ]
    }
   ],
   "source": [
    "print(f\"Financial Analysis\")\n",
    "print(f\"--------------------------------------------\")\n",
    "print(f\"Total Months: {line_num}\")\n",
    "print(f\"Total: ${total_Pnl_change}\")\n",
    "print(f\"Average Change: ${average_Profit_Loss}\")\n",
    "print(f\"Greatest Increase in Profits: {greatest_inc_month}  (${greatest_increase})\")\n",
    "print(f\"Greatest Decrease in Profits: {greatest_dec_month}  (${greatest_decrease})\")"
   ]
  },
  {
   "cell_type": "code",
   "execution_count": 30,
   "id": "90e60ce1-e290-41bb-8061-8a5fe417e5ab",
   "metadata": {},
   "outputs": [
    {
     "data": {
      "text/plain": [
       "446309.0465116279"
      ]
     },
     "execution_count": 30,
     "metadata": {},
     "output_type": "execute_result"
    }
   ],
   "source": [
    "np.mean(p_and_l)"
   ]
  },
  {
   "cell_type": "code",
   "execution_count": 31,
   "id": "73a9cb45-2317-41b0-9220-34677e345d71",
   "metadata": {},
   "outputs": [
    {
     "data": {
      "text/plain": [
       "247385.58139534883"
      ]
     },
     "execution_count": 31,
     "metadata": {},
     "output_type": "execute_result"
    }
   ],
   "source": [
    "np.mean(monthly_PnL_change)"
   ]
  },
  {
   "cell_type": "code",
   "execution_count": null,
   "id": "0fb39675-0dc5-4659-95e2-0e489a7ea4d1",
   "metadata": {},
   "outputs": [],
   "source": []
  }
 ],
 "metadata": {
  "kernelspec": {
   "display_name": "Python 3",
   "language": "python",
   "name": "python3"
  },
  "language_info": {
   "codemirror_mode": {
    "name": "ipython",
    "version": 3
   },
   "file_extension": ".py",
   "mimetype": "text/x-python",
   "name": "python",
   "nbconvert_exporter": "python",
   "pygments_lexer": "ipython3",
   "version": "3.8.8"
  }
 },
 "nbformat": 4,
 "nbformat_minor": 5
}
