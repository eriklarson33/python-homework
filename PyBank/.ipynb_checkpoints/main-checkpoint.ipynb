{
 "cells": [
  {
   "cell_type": "markdown",
   "id": "79e9ea09-be06-44b8-b8b0-84680dd30718",
   "metadata": {},
   "source": [
    "# Budget Analysis:\n",
    "-------------------------"
   ]
  },
  {
   "cell_type": "markdown",
   "id": "5f9b3694-43dc-4eac-af63-40be4316cccd",
   "metadata": {},
   "source": [
    "### This analyzes the records to calculate each of the following:\n",
    "* The total number of months included in the dataset.\n",
    "* The net total amount of Profit/Losses over the entire period.\n",
    "* The average of the changes in Profit/Losses over the entire period.\n",
    "* The greatest increase in profits (date and amount) over the entire period.\n",
    "* The greatest decrease in losses (date and amount) over the entire period."
   ]
  },
  {
   "cell_type": "code",
   "execution_count": 1,
   "id": "532156ff-c82e-421f-9f48-fbfb7875a9bd",
   "metadata": {},
   "outputs": [],
   "source": [
    "# Import libraries\n",
    "from pathlib import Path\n",
    "import csv"
   ]
  },
  {
   "cell_type": "code",
   "execution_count": 2,
   "id": "d1d5ab45-73a1-42a8-b958-0fdfef177850",
   "metadata": {},
   "outputs": [
    {
     "data": {
      "text/plain": [
       "WindowsPath('Resources/budget_data.csv')"
      ]
     },
     "execution_count": 2,
     "metadata": {},
     "output_type": "execute_result"
    }
   ],
   "source": [
    "# Import data\n",
    "csv_path = Path('Resources/budget_data.csv')\n",
    "csv_path"
   ]
  },
  {
   "cell_type": "code",
   "execution_count": 3,
   "id": "5634a55a-d513-4d55-883f-260940bb3cb8",
   "metadata": {},
   "outputs": [],
   "source": [
    "# Initializing variables to hold the months and Profit/Loss:\n",
    "\n",
    "# Set variables for tracking Profit/Loss\n",
    "previous_PnL = 0\n",
    "current_PnL_change = 0\n",
    "\n",
    "# Variables for tracking Greatest increase in profits (date & amount)\n",
    "greatest_increase = 0\n",
    "greatest_inc_month = ''\n",
    "\n",
    "# Variables for tracking Greatest decrease in profits (date & amount)\n",
    "greatest_decrease = 0\n",
    "greatest_dec_month = ''\n",
    "\n",
    "# Track total Profit/Loss over time:\n",
    "total_Pnl_change = 0"
   ]
  },
  {
   "cell_type": "code",
   "execution_count": 4,
   "id": "d3000f2a-2321-4091-ab88-2aa6e6959347",
   "metadata": {},
   "outputs": [],
   "source": [
    "# Initialize line_num variable to track row line # (Provide Total # of Months)\n",
    "line_num = 0"
   ]
  },
  {
   "cell_type": "code",
   "execution_count": 5,
   "id": "ca4f7a14-b50c-4762-bb9e-c06657ac30a0",
   "metadata": {},
   "outputs": [],
   "source": [
    "with open(csv_path, 'r') as csv_file:\n",
    "    csv_reader = csv.reader(csv_file, delimiter=',')\n",
    "    \n",
    "    # Skip the Header Row\n",
    "    next(csv_reader)\n",
    "    \n",
    "    for line in csv_reader:\n",
    "        \n",
    "        # Calculate total monthly Profit/Loss change over time\n",
    "        total_Pnl_change = total_Pnl_change + int(line[1])\n",
    "        \n",
    "        current_PnL_change = int(line[1]) - previous_PnL\n",
    "        previous_PnL = current_PnL_change\n",
    "        \n",
    "        if current_PnL_change > greatest_increase:\n",
    "            greatest_increase = current_PnL_change\n",
    "            greatest_inc_month = line[0]\n",
    "            \n",
    "        if current_PnL_change < greatest_decrease:\n",
    "            greatest_decrease = current_PnL_change\n",
    "            greatest_dec_month = line[0]\n",
    "        \n",
    "        line_num+=1\n"
   ]
  },
  {
   "cell_type": "code",
   "execution_count": 6,
   "id": "3ec18d70-7532-407d-b46d-405ae476cd07",
   "metadata": {},
   "outputs": [
    {
     "data": {
      "text/plain": [
       "38382578"
      ]
     },
     "execution_count": 6,
     "metadata": {},
     "output_type": "execute_result"
    }
   ],
   "source": [
    "total_Pnl_change"
   ]
  },
  {
   "cell_type": "code",
   "execution_count": 7,
   "id": "d0ea544a-0cb7-4b6d-b7a1-7348b2f6b696",
   "metadata": {},
   "outputs": [
    {
     "data": {
      "text/plain": [
       "86"
      ]
     },
     "execution_count": 7,
     "metadata": {},
     "output_type": "execute_result"
    }
   ],
   "source": [
    "line_num"
   ]
  },
  {
   "cell_type": "code",
   "execution_count": 8,
   "id": "2a434a23-5c53-49a7-ad8b-5caae9818560",
   "metadata": {},
   "outputs": [
    {
     "data": {
      "text/plain": [
       "446309.05"
      ]
     },
     "execution_count": 8,
     "metadata": {},
     "output_type": "execute_result"
    }
   ],
   "source": [
    "# Calculate average Profit/Loss over time:\n",
    "average_Profit_Loss = round((total_Pnl_change / line_num), 2)\n",
    "average_Profit_Loss"
   ]
  },
  {
   "cell_type": "code",
   "execution_count": 9,
   "id": "bcc892dc-2c70-4b83-81e8-8c54f6679c30",
   "metadata": {},
   "outputs": [
    {
     "name": "stdout",
     "output_type": "stream",
     "text": [
      "Financial Analysis\n",
      "--------------------------------------------\n",
      "Total Months: 86\n",
      "Total: $38382578\n",
      "Average Change: $446309.05\n",
      "Greatest Increase in Profits: Dec-2014  ($5276532)\n",
      "Greatest Decrease in Profits: May-2014  ($-4526403)\n"
     ]
    }
   ],
   "source": [
    "print(f\"Financial Analysis\")\n",
    "print(f\"--------------------------------------------\")\n",
    "print(f\"Total Months: {line_num}\")\n",
    "print(f\"Total: ${total_Pnl_change}\")\n",
    "print(f\"Average Change: ${average_Profit_Loss}\")\n",
    "print(f\"Greatest Increase in Profits: {greatest_inc_month}  (${greatest_increase})\")\n",
    "print(f\"Greatest Decrease in Profits: {greatest_dec_month}  (${greatest_decrease})\")"
   ]
  },
  {
   "cell_type": "code",
   "execution_count": null,
   "id": "1392e549-494f-41ae-8c5e-7174bfb1983b",
   "metadata": {},
   "outputs": [],
   "source": []
  },
  {
   "cell_type": "code",
   "execution_count": null,
   "id": "0fb39675-0dc5-4659-95e2-0e489a7ea4d1",
   "metadata": {},
   "outputs": [],
   "source": []
  }
 ],
 "metadata": {
  "kernelspec": {
   "display_name": "Python 3",
   "language": "python",
   "name": "python3"
  },
  "language_info": {
   "codemirror_mode": {
    "name": "ipython",
    "version": 3
   },
   "file_extension": ".py",
   "mimetype": "text/x-python",
   "name": "python",
   "nbconvert_exporter": "python",
   "pygments_lexer": "ipython3",
   "version": "3.8.8"
  }
 },
 "nbformat": 4,
 "nbformat_minor": 5
}
