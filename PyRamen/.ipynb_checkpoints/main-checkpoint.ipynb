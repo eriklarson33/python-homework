{
 "cells": [
  {
   "cell_type": "markdown",
   "id": "e4b7f2df-f13d-4c19-b794-106db5c66dcf",
   "metadata": {},
   "source": [
    "# PyRamen (Optional)"
   ]
  },
  {
   "cell_type": "code",
   "execution_count": null,
   "id": "7ab2d00c-c70f-4a27-a36d-ac9144ae42a7",
   "metadata": {},
   "outputs": [],
   "source": []
  }
 ],
 "metadata": {
  "kernelspec": {
   "display_name": "Python 3",
   "language": "python",
   "name": "python3"
  },
  "language_info": {
   "codemirror_mode": {
    "name": "ipython",
    "version": 3
   },
   "file_extension": ".py",
   "mimetype": "text/x-python",
   "name": "python",
   "nbconvert_exporter": "python",
   "pygments_lexer": "ipython3",
   "version": "3.8.8"
  }
 },
 "nbformat": 4,
 "nbformat_minor": 5
}
